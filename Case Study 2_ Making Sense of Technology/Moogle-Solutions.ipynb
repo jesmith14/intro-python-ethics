{
 "cells": [
  {
   "cell_type": "markdown",
   "metadata": {},
   "source": [
    "# Welcome to day 1 of working as a Moogle engineer!\n",
    "\n",
    "For your first day on the job, we are asking you to complete an algorithm that will help us hire more great people just like you! All of the instructions are in the writeup pdf document, complete your code in this notebook and think through all of your design decisions carefully!"
   ]
  },
  {
   "cell_type": "code",
   "execution_count": 18,
   "metadata": {},
   "outputs": [],
   "source": [
    "#You can use this list later to test your code\n",
    "#this list represents example profiles of people\n",
    "#who are applying for this job!\n",
    "#The scores in each list represent:\n",
    "# 0.Intro to CS: 100\n",
    "# 1.Data Structures: 95\n",
    "# 2.Software Engineering: 80\n",
    "# 3.Algorithms: 89\n",
    "# 4.Computer Organization: 91 \n",
    "# 5.Operative Systems: 75\n",
    "# 6.Overall GPA: 83\n",
    "applicant_list = [[93, 89, 63, 88, 60, 73, 80], \n",
    "                [100, 63, 57, 96, 58, 71, 78], \n",
    "                [81, 91, 99, 78, 57, 87, 86], \n",
    "                [81, 73, 100, 57, 91, 60, 66], \n",
    "                [86, 89, 64, 81, 69, 93, 92], \n",
    "                [78, 63, 88, 95, 59, 98, 90], \n",
    "                [55, 74, 68, 55, 69, 94, 80], \n",
    "                [64, 77, 75, 92, 77, 72, 83], \n",
    "                [95, 58, 92, 62, 77, 64, 59], \n",
    "                [94, 78, 84, 83, 68, 63, 76]]\n",
    "test_applicant = [78, 63, 88, 95, 90, 98, 90]"
   ]
  },
  {
   "cell_type": "code",
   "execution_count": 23,
   "metadata": {},
   "outputs": [],
   "source": [
    "#Do this one with them\n",
    "def analyzeApplicant1(applicant):\n",
    "    \"\"\"\n",
    "    Given the GPAs of a single applicant, return True if they are qualified\n",
    "    Qualification: An applicant is qualified if...\n",
    "        - their Overall College GPA is above 80\n",
    "\n",
    "    @param applicant: a list of GPAs (integers)\n",
    "    @return True if the applicant qualifies\n",
    "    \"\"\"\n",
    "    #check to see if their overall college gpa is above 80\n",
    "    overallGPA = applicant[6]\n",
    "    if overallGPA > 80:\n",
    "        return True\n",
    "    else:\n",
    "        return False"
   ]
  },
  {
   "cell_type": "code",
   "execution_count": 24,
   "metadata": {},
   "outputs": [
    {
     "data": {
      "text/plain": [
       "True"
      ]
     },
     "execution_count": 24,
     "metadata": {},
     "output_type": "execute_result"
    }
   ],
   "source": [
    "analyzeApplicant1(test_applicant)"
   ]
  },
  {
   "cell_type": "code",
   "execution_count": 25,
   "metadata": {},
   "outputs": [],
   "source": [
    "#Do this one with them\n",
    "def analyzeApplicant2(applicant):\n",
    "    \"\"\"\n",
    "    Given the GPAs of a single applicant, return True if they are qualified\n",
    "    Qualification: An applicant is qualified if...\n",
    "        - they have no grade below a 65\n",
    "\n",
    "    @param applicant: a list of GPAs (integers)\n",
    "    @return True if the applicant qualifies\n",
    "    \"\"\"\n",
    "    #loop through all of the gpas of the applicant\n",
    "    for grade in applicant:\n",
    "        #if their grade is less than 65 return false\n",
    "        if grade < 65:\n",
    "            return False\n",
    "    #after looping through all of the gpas\n",
    "    #if they didn't have any that were less than 65\n",
    "    #then return true\n",
    "    return True"
   ]
  },
  {
   "cell_type": "code",
   "execution_count": 26,
   "metadata": {},
   "outputs": [
    {
     "data": {
      "text/plain": [
       "False"
      ]
     },
     "execution_count": 26,
     "metadata": {},
     "output_type": "execute_result"
    }
   ],
   "source": [
    "analyzeApplicant2(test_applicant)"
   ]
  },
  {
   "cell_type": "code",
   "execution_count": 27,
   "metadata": {},
   "outputs": [],
   "source": [
    "# they do this one with their groups then come back\n",
    "def analyzeApplicant3(applicant):\n",
    "    \"\"\"\n",
    "    Given the GPAs of a single applicant, return True if they are qualified\n",
    "    Qualification: An applicant is qualified if...\n",
    "        - they have at least 4 grades above 85\n",
    "\n",
    "    @param applicant: a list of GPAs (integers)\n",
    "    @return True if the applicant qualifies\n",
    "    \"\"\"\n",
    "    gradesAbove85 = 0\n",
    "    for grade in applicant:\n",
    "        if grade > 85:\n",
    "            gradesAbove85 += 1\n",
    "    if gradesAbove85 > 4:\n",
    "        return True\n",
    "    else:\n",
    "        return False\n"
   ]
  },
  {
   "cell_type": "code",
   "execution_count": 28,
   "metadata": {},
   "outputs": [
    {
     "data": {
      "text/plain": [
       "True"
      ]
     },
     "execution_count": 28,
     "metadata": {},
     "output_type": "execute_result"
    }
   ],
   "source": [
    "#Use this cell to test your function!\n",
    "analyzeApplicant3(test_applicant)"
   ]
  },
  {
   "cell_type": "code",
   "execution_count": 12,
   "metadata": {},
   "outputs": [],
   "source": [
    "# do pseudo code with them and then have them write the code in their groups\n",
    "def analyzeApplicant4(applicant):\n",
    "    \"\"\"\n",
    "    Given the GPAs of a single applicant, return True if they are qualified\n",
    "    Qualification: An applicant is qualified if...\n",
    "        - the average GPA of their CS courses (all but Overall) is above 85\n",
    "\n",
    "    @param applicant: a list of GPAs (integers)\n",
    "    @return True if the applicant qualifies\n",
    "    \"\"\"\n",
    "    #create a sum variable\n",
    "    totalSum = 0\n",
    "    #loop through all of the gpas but not the overall gpa\n",
    "    for i in range(0,6):\n",
    "        #add to totalSum variable\n",
    "        totalSum += applicant[i]\n",
    "    #calculate the average variable\n",
    "    average = totalSum/6\n",
    "    #if the average is over 85 return true otherwise return false\n",
    "    if average > 85:\n",
    "        return True\n",
    "    else:\n",
    "        return False"
   ]
  },
  {
   "cell_type": "code",
   "execution_count": 29,
   "metadata": {},
   "outputs": [
    {
     "data": {
      "text/plain": [
       "True"
      ]
     },
     "execution_count": 29,
     "metadata": {},
     "output_type": "execute_result"
    }
   ],
   "source": [
    "#Use this cell to test your function!\n",
    "analyzeApplicant4(test_applicant)"
   ]
  },
  {
   "cell_type": "markdown",
   "metadata": {},
   "source": [
    "# Now it is time for YOU to decide!\n",
    "\n",
    "Complete the function below by creating your own qualifications for an applicant based off of their application data. Include your qualifications as a comment at the beginning of your function, then write pseudo code, and finally write the code for the function! Choose your qualifications wisely."
   ]
  },
  {
   "cell_type": "code",
   "execution_count": 13,
   "metadata": {},
   "outputs": [],
   "source": [
    "#they do this by themselves and then have 2 or 3 of them volunteer to show their code!\n",
    "def yourAnalysis(applicant):\n",
    "    \"\"\"\n",
    "    Given the GPAs of a single applicant, return True if they are qualified\n",
    "    Qualification: An applicant is qualified if...\n",
    "        - YOUR DECISION. WRITE IT HERE.\n",
    "\n",
    "    @param applicant: a list of GPAs (integers)\n",
    "    @return True if the applicant qualifies\n",
    "    \"\"\"\n",
    "    return True\n"
   ]
  },
  {
   "cell_type": "code",
   "execution_count": 37,
   "metadata": {},
   "outputs": [],
   "source": [
    "#I have written code to help you test out all of your functions!\n",
    "#This function will create a list of the top applicants and return it!\n",
    "#It's up to you to choose which of the analyzeApplicant functions will\n",
    "#be the chosen function that Moogle will implement into its official\n",
    "#hiring system. Right now, it has defaulted to the function: AnalyzeApplicant1\n",
    "def getBestApplicants(appList):\n",
    "    \"\"\"\n",
    "    Given applicant data, return the most qualified applications\n",
    "\n",
    "    @param app_list: a 2D list containing lists of application data\n",
    "    @return a 2D list of the best applications\n",
    "    \"\"\"\n",
    "    finalists = []\n",
    "\n",
    "    for applicant in appList:\n",
    "    # choose which of these functions you would like\n",
    "    # to make the final decision for you!\n",
    "    # Right now this function is defaulting to use the:\n",
    "    # analyzeApplicant1 function\n",
    "        if analyzeApplicant1(applicant) == True:\n",
    "            finalists.append(applicant)\n",
    "\n",
    "    return finalists"
   ]
  },
  {
   "cell_type": "code",
   "execution_count": 38,
   "metadata": {},
   "outputs": [],
   "source": [
    "#Call your function to get the return value\n",
    "#Pass in the parameter applicant_list that we created at the beginning\n",
    "#set this return value equal to a variable called \"finalists\"\n",
    "finalists = getBestApplicants(applicant_list)"
   ]
  },
  {
   "cell_type": "code",
   "execution_count": 39,
   "metadata": {},
   "outputs": [
    {
     "name": "stdout",
     "output_type": "stream",
     "text": [
      "\n",
      "-------------------------\n",
      "\n",
      "The finalists are...\n",
      "[81, 91, 99, 78, 57, 87, 86]\n",
      "[86, 89, 64, 81, 69, 93, 92]\n",
      "[78, 63, 88, 95, 59, 98, 90]\n",
      "[64, 77, 75, 92, 77, 72, 83]\n",
      "Your algorithm kept 40 percent of applicants\n"
     ]
    }
   ],
   "source": [
    "#I have written this code for you!\n",
    "#Simply run this cell and if everything was done correctly,\n",
    "#You'll get the finalists for the job at Moogle!\n",
    "print('')\n",
    "print(\"-------------------------\")\n",
    "print()\n",
    "print(\"The finalists are...\")\n",
    "for finalist in finalists:\n",
    "    print(finalist)\n",
    "print(\"Your algorithm kept\", round(len(finalists)/len(applicant_list)*100), \"percent of applicants\")"
   ]
  },
  {
   "cell_type": "markdown",
   "metadata": {},
   "source": [
    "What percent of applicants would have made it to the finalists had you chosen a different analyze function for Moogle?"
   ]
  },
  {
   "cell_type": "code",
   "execution_count": null,
   "metadata": {},
   "outputs": [],
   "source": []
  }
 ],
 "metadata": {
  "kernelspec": {
   "display_name": "Python 3",
   "language": "python",
   "name": "python3"
  },
  "language_info": {
   "codemirror_mode": {
    "name": "ipython",
    "version": 3
   },
   "file_extension": ".py",
   "mimetype": "text/x-python",
   "name": "python",
   "nbconvert_exporter": "python",
   "pygments_lexer": "ipython3",
   "version": "3.6.9"
  }
 },
 "nbformat": 4,
 "nbformat_minor": 2
}
