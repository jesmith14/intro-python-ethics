{
 "cells": [
  {
   "cell_type": "markdown",
   "metadata": {},
   "source": [
    "# Moral Machine Part 1\n",
    "Welcome to your first day on the job at a fancy new self-driving car company: Messla. At Messla, we represent the cutting edge in self-driving technology, which is why we need to innovate faster than anyone else out there. In order to get our new self-driving cars on the road by the end of this year, we need to come up with the best algorithm to tackle one problem that has gotten in the way of all of our self-driving competitors: *The Trolley Problem*\n",
    "\n",
    "For your first task on the job, I'm going to need to you to create the algorithm that determines *what* our self-driving cars should do in the event of an unavoidable collision.\n",
    "\n",
    "This will take 3 steps:\n",
    "1. Use the data we have from previous unavoidable collisions to create your model\n",
    "2. Decide the criteria that you want our cars to use to determine who to kill and who to save\n",
    "3. Test your model on our data and see how well it works!\n",
    "\n",
    "Should be easy, right?"
   ]
  },
  {
   "cell_type": "markdown",
   "metadata": {},
   "source": [
    "### Task 1: Read in our internal information file\n",
    "This file represents all of the people that have been a part of an unavoidable collision with one of our autonomous vehicles. Here is how you can interpret this file:\n",
    "\n",
    "Every even row represents the demographics of the pedestrian, usually someone crossing the street.\n",
    "Every odd row represents the demographics of the driver.\n",
    "\n",
    "This means that every two rows of this csv represent one accident.\n",
    "\n",
    "In some of these accidents, the driver was at fault. In some of these accidents, the pedestrian was at fault. This is indicated in the 5th column of every data entry.\n",
    "\n",
    "The data is formatted as follows:\n",
    "\n",
    "RowNumber, Age, Gender, Country, Fault\n",
    "\n",
    "- Where *RowNumber* is the number row, even numbers are the pedestrian, odd numbers are the driver\n",
    "- Where *Age* is the age of the driver or pedestrian \n",
    "- Where *Gender* is the gender of the driver or pedestrian\n",
    "- Where *Country* is the country of origin of the driver or pedestrian\n",
    "- Where *Fault* is whose fault the collision was, the driver or the pedestrian\n",
    "\n",
    "Please read in the csv file titled **\"trolley-problem.csv\"**, skip the header (but print the header), and then print out each line in the csv file as a list. Don't forget to close the file after you finish."
   ]
  },
  {
   "cell_type": "code",
   "execution_count": null,
   "metadata": {},
   "outputs": [],
   "source": []
  },
  {
   "cell_type": "markdown",
   "metadata": {},
   "source": [
    "### Cohort #1: Complete Task Number 1 Using the new csv reader method we just learned"
   ]
  },
  {
   "cell_type": "code",
   "execution_count": 50,
   "metadata": {},
   "outputs": [
    {
     "name": "stdout",
     "output_type": "stream",
     "text": [
      "['RowNumber', 'Age', 'Gender', 'Country', 'Fault']\n",
      "['0', '35', 'Male', 'USA', 'Pedestrian']\n",
      "['1', '37', 'Male', 'China', 'Pedestrian']\n",
      "['2', '27', 'Male', 'USA', 'Pedestrian']\n",
      "['3', '31', 'Male', 'India', 'Pedestrian']\n",
      "['4', '24', 'Male', 'USA', 'Pedestrian']\n",
      "['5', '24', 'Male', 'USA', 'Pedestrian']\n",
      "['6', '26', 'Male', 'USA', 'Driver']\n",
      "['7', '24', 'Female', 'India', 'Driver']\n",
      "['8', '24', 'Female', 'China', 'Driver']\n",
      "['9', '31', 'Female', 'UK', 'Driver']\n",
      "['10', '29', 'Female', 'UK', 'Pedestrian']\n",
      "['11', '62', 'Male', 'Cuban', 'Pedestrian']\n",
      "['12', '36', 'Male', 'USA', 'Pedestrian']\n",
      "['13', '28', 'Male', 'Mexico', 'Pedestrian']\n",
      "['14', '23', 'Male', 'USA', 'Driver']\n",
      "['15', '32', 'Female', 'Denmark', 'Driver']\n",
      "['16', '26', 'Male', 'Belgium', 'Driver']\n",
      "['17', '26', 'Male', 'USA', 'Driver']\n",
      "['18', '60', 'Male', 'USA', 'Driver']\n",
      "['19', '28', 'Male', 'USA', 'Driver']\n",
      "['20', '25', 'Male', 'USA', 'Driver']\n",
      "['21', '42', 'Female', 'USA', 'Driver']\n",
      "['22', '31', 'Female', 'USA', 'Driver']\n",
      "['23', '24', 'Male', 'USA', 'Driver']\n",
      "['24', '44', 'Female', 'USA', 'Driver']\n",
      "['25', '31', 'Female', 'USA', 'Driver']\n",
      "['26', '33', 'Male', 'Egypt', 'Driver']\n",
      "['27', '34', 'Female', 'Poland', 'Driver']\n",
      "['28', '40', 'Female', 'USA', 'Driver']\n",
      "['29', '52', 'Female', 'USA', 'Driver']\n",
      "['30', '31', 'Female', 'USA', 'Driver']\n",
      "['31', '49', 'Female', 'USA', 'Driver']\n",
      "['32', '19', 'Male', 'Germany', 'Driver']\n",
      "['33', '51', 'Female', 'USA', 'Driver']\n",
      "['34', '24', 'Male', 'USA', 'Driver']\n",
      "['35', '31', 'Male', 'USA', 'Driver']\n",
      "['36', '22', 'Male', 'USA', 'Pedestrian']\n",
      "['37', '58', 'Female', 'USA', 'Pedestrian']\n",
      "['38', '22', 'Female', 'China', 'Driver']\n",
      "['39', '35', 'Female', 'USA', 'Driver']\n",
      "['40', '30', 'Female', 'USA', 'Driver']\n",
      "['41', '44', 'Male', 'India', 'Driver']\n",
      "['42', '26', 'Male', 'USA', 'Driver']\n",
      "['43', '24', 'Female', 'Canada', 'Driver']\n",
      "['44', '37', 'Female', 'USA', 'Driver']\n",
      "['45', '25', 'Male', 'USA', 'Driver']\n",
      "['46', '26', 'Male', 'USA', 'Driver']\n",
      "['47', '31', 'Male', 'USA', 'Driver']\n",
      "['48', '34', 'Male', 'USA', 'Pedestrian']\n",
      "['49', '41', 'Male', 'USA', 'Pedestrian']\n"
     ]
    }
   ],
   "source": []
  },
  {
   "cell_type": "markdown",
   "metadata": {},
   "source": [
    "### Cohort #2: Complete Task Number 1 Using the .read() .splitlines() and .split() method"
   ]
  },
  {
   "cell_type": "code",
   "execution_count": 51,
   "metadata": {},
   "outputs": [
    {
     "name": "stdout",
     "output_type": "stream",
     "text": [
      "RowNumber,Age,Gender,Country,Fault\n",
      "['RowNumber', 'Age', 'Gender', 'Country', 'Fault']\n",
      "['0', '35', 'Male', 'USA', 'Pedestrian']\n",
      "['1', '37', 'Male', 'China', 'Pedestrian']\n",
      "['2', '27', 'Male', 'USA', 'Pedestrian']\n",
      "['3', '31', 'Male', 'India', 'Pedestrian']\n",
      "['4', '24', 'Male', 'USA', 'Pedestrian']\n",
      "['5', '24', 'Male', 'USA', 'Pedestrian']\n",
      "['6', '26', 'Male', 'USA', 'Driver']\n",
      "['7', '24', 'Female', 'India', 'Driver']\n",
      "['8', '24', 'Female', 'China', 'Driver']\n",
      "['9', '31', 'Female', 'UK', 'Driver']\n",
      "['10', '29', 'Female', 'UK', 'Pedestrian']\n",
      "['11', '62', 'Male', 'Cuban', 'Pedestrian']\n",
      "['12', '36', 'Male', 'USA', 'Pedestrian']\n",
      "['13', '28', 'Male', 'Mexico', 'Pedestrian']\n",
      "['14', '23', 'Male', 'USA', 'Driver']\n",
      "['15', '32', 'Female', 'Denmark', 'Driver']\n",
      "['16', '26', 'Male', 'Belgium', 'Driver']\n",
      "['17', '26', 'Male', 'USA', 'Driver']\n",
      "['18', '60', 'Male', 'USA', 'Driver']\n",
      "['19', '28', 'Male', 'USA', 'Driver']\n",
      "['20', '25', 'Male', 'USA', 'Driver']\n",
      "['21', '42', 'Female', 'USA', 'Driver']\n",
      "['22', '31', 'Female', 'USA', 'Driver']\n",
      "['23', '24', 'Male', 'USA', 'Driver']\n",
      "['24', '44', 'Female', 'USA', 'Driver']\n",
      "['25', '31', 'Female', 'USA', 'Driver']\n",
      "['26', '33', 'Male', 'Egypt', 'Driver']\n",
      "['27', '34', 'Female', 'Poland', 'Driver']\n",
      "['28', '40', 'Female', 'USA', 'Driver']\n",
      "['29', '52', 'Female', 'USA', 'Driver']\n",
      "['30', '31', 'Female', 'USA', 'Driver']\n",
      "['31', '49', 'Female', 'USA', 'Driver']\n",
      "['32', '19', 'Male', 'Germany', 'Driver']\n",
      "['33', '51', 'Female', 'USA', 'Driver']\n",
      "['34', '24', 'Male', 'USA', 'Driver']\n",
      "['35', '31', 'Male', 'USA', 'Driver']\n",
      "['36', '22', 'Male', 'USA', 'Pedestrian']\n",
      "['37', '58', 'Female', 'USA', 'Pedestrian']\n",
      "['38', '22', 'Female', 'China', 'Driver']\n",
      "['39', '35', 'Female', 'USA', 'Driver']\n",
      "['40', '30', 'Female', 'USA', 'Driver']\n",
      "['41', '44', 'Male', 'India', 'Driver']\n",
      "['42', '26', 'Male', 'USA', 'Driver']\n",
      "['43', '24', 'Female', 'Canada', 'Driver']\n",
      "['44', '37', 'Female', 'USA', 'Driver']\n",
      "['45', '25', 'Male', 'USA', 'Driver']\n",
      "['46', '26', 'Male', 'USA', 'Driver']\n",
      "['47', '31', 'Male', 'USA', 'Driver']\n",
      "['48', '34', 'Male', 'USA', 'Pedestrian']\n",
      "['49', '41', 'Male', 'USA', 'Pedestrian']\n"
     ]
    }
   ],
   "source": []
  },
  {
   "cell_type": "markdown",
   "metadata": {},
   "source": [
    "### Cohort #3: Complete Task Number 1 Using the .readline() and .split() method"
   ]
  },
  {
   "cell_type": "code",
   "execution_count": 52,
   "metadata": {},
   "outputs": [
    {
     "name": "stdout",
     "output_type": "stream",
     "text": [
      "RowNumber,Age,Gender,Country,Fault\n",
      "\n",
      "['0,35,Male,USA,Pedestrian']\n",
      "['1,37,Male,China,Pedestrian']\n",
      "['2,27,Male,USA,Pedestrian']\n",
      "['3,31,Male,India,Pedestrian']\n",
      "['4,24,Male,USA,Pedestrian']\n",
      "['5,24,Male,USA,Pedestrian']\n",
      "['6,26,Male,USA,Driver']\n",
      "['7,24,Female,India,Driver']\n",
      "['8,24,Female,China,Driver']\n",
      "['9,31,Female,UK,Driver']\n",
      "['10,29,Female,UK,Pedestrian']\n",
      "['11,62,Male,Cuban,Pedestrian']\n",
      "['12,36,Male,USA,Pedestrian']\n",
      "['13,28,Male,Mexico,Pedestrian']\n",
      "['14,23,Male,USA,Driver']\n",
      "['15,32,Female,Denmark,Driver']\n",
      "['16,26,Male,Belgium,Driver']\n",
      "['17,26,Male,USA,Driver']\n",
      "['18,60,Male,USA,Driver']\n",
      "['19,28,Male,USA,Driver']\n",
      "['20,25,Male,USA,Driver']\n",
      "['21,42,Female,USA,Driver']\n",
      "['22,31,Female,USA,Driver']\n",
      "['23,24,Male,USA,Driver']\n",
      "['24,44,Female,USA,Driver']\n",
      "['25,31,Female,USA,Driver']\n",
      "['26,33,Male,Egypt,Driver']\n",
      "['27,34,Female,Poland,Driver']\n",
      "['28,40,Female,USA,Driver']\n",
      "['29,52,Female,USA,Driver']\n",
      "['30,31,Female,USA,Driver']\n",
      "['31,49,Female,USA,Driver']\n",
      "['32,19,Male,Germany,Driver']\n",
      "['33,51,Female,USA,Driver']\n",
      "['34,24,Male,USA,Driver']\n",
      "['35,31,Male,USA,Driver']\n",
      "['36,22,Male,USA,Pedestrian']\n",
      "['37,58,Female,USA,Pedestrian']\n",
      "['38,22,Female,China,Driver']\n",
      "['39,35,Female,USA,Driver']\n",
      "['40,30,Female,USA,Driver']\n",
      "['41,44,Male,India,Driver']\n",
      "['42,26,Male,USA,Driver']\n",
      "['43,24,Female,Canada,Driver']\n",
      "['44,37,Female,USA,Driver']\n",
      "['45,25,Male,USA,Driver']\n",
      "['46,26,Male,USA,Driver']\n",
      "['47,31,Male,USA,Driver']\n",
      "['48,34,Male,USA,Pedestrian']\n",
      "['49,41,Male,USA,Pedestrian']\n"
     ]
    }
   ],
   "source": []
  },
  {
   "cell_type": "markdown",
   "metadata": {},
   "source": [
    "## Task 2: Parse and clean the file\n",
    "You may have noticed that some of this data is numeric, but it is being saved as a string. We need that data as an integer so that we can make comparisons between age and between row number in order to complete our algorithm. We need you to create a list of lists.\n",
    "\n",
    "Each item in this list of lists is:\n",
    "- a list that represents a single row in the csv\n",
    "- each number in the list is an integer datatype\n",
    "- everything else is a string\n",
    "\n",
    "Write a function that takes in any file name and returns the list of lists specified above."
   ]
  },
  {
   "cell_type": "code",
   "execution_count": 53,
   "metadata": {},
   "outputs": [],
   "source": [
    "def parseAndClean(fileName):\n",
    "    #your code here\n",
    "    #return listOfLists\n",
    "    #hint: It will be easier if you start with an empty listOfLists and use the .append() function!\n"
   ]
  },
  {
   "cell_type": "code",
   "execution_count": 54,
   "metadata": {},
   "outputs": [
    {
     "data": {
      "text/plain": [
       "[[0, 35, 'Male', 'USA', 'Pedestrian'],\n",
       " [1, 37, 'Male', 'China', 'Pedestrian'],\n",
       " [2, 27, 'Male', 'USA', 'Pedestrian'],\n",
       " [3, 31, 'Male', 'India', 'Pedestrian'],\n",
       " [4, 24, 'Male', 'USA', 'Pedestrian'],\n",
       " [5, 24, 'Male', 'USA', 'Pedestrian'],\n",
       " [6, 26, 'Male', 'USA', 'Driver'],\n",
       " [7, 24, 'Female', 'India', 'Driver'],\n",
       " [8, 24, 'Female', 'China', 'Driver'],\n",
       " [9, 31, 'Female', 'UK', 'Driver'],\n",
       " [10, 29, 'Female', 'UK', 'Pedestrian'],\n",
       " [11, 62, 'Male', 'Cuban', 'Pedestrian'],\n",
       " [12, 36, 'Male', 'USA', 'Pedestrian'],\n",
       " [13, 28, 'Male', 'Mexico', 'Pedestrian'],\n",
       " [14, 23, 'Male', 'USA', 'Driver'],\n",
       " [15, 32, 'Female', 'Denmark', 'Driver'],\n",
       " [16, 26, 'Male', 'Belgium', 'Driver'],\n",
       " [17, 26, 'Male', 'USA', 'Driver'],\n",
       " [18, 60, 'Male', 'USA', 'Driver'],\n",
       " [19, 28, 'Male', 'USA', 'Driver'],\n",
       " [20, 25, 'Male', 'USA', 'Driver'],\n",
       " [21, 42, 'Female', 'USA', 'Driver'],\n",
       " [22, 31, 'Female', 'USA', 'Driver'],\n",
       " [23, 24, 'Male', 'USA', 'Driver'],\n",
       " [24, 44, 'Female', 'USA', 'Driver'],\n",
       " [25, 31, 'Female', 'USA', 'Driver'],\n",
       " [26, 33, 'Male', 'Egypt', 'Driver'],\n",
       " [27, 34, 'Female', 'Poland', 'Driver'],\n",
       " [28, 40, 'Female', 'USA', 'Driver'],\n",
       " [29, 52, 'Female', 'USA', 'Driver'],\n",
       " [30, 31, 'Female', 'USA', 'Driver'],\n",
       " [31, 49, 'Female', 'USA', 'Driver'],\n",
       " [32, 19, 'Male', 'Germany', 'Driver'],\n",
       " [33, 51, 'Female', 'USA', 'Driver'],\n",
       " [34, 24, 'Male', 'USA', 'Driver'],\n",
       " [35, 31, 'Male', 'USA', 'Driver'],\n",
       " [36, 22, 'Male', 'USA', 'Pedestrian'],\n",
       " [37, 58, 'Female', 'USA', 'Pedestrian'],\n",
       " [38, 22, 'Female', 'China', 'Driver'],\n",
       " [39, 35, 'Female', 'USA', 'Driver'],\n",
       " [40, 30, 'Female', 'USA', 'Driver'],\n",
       " [41, 44, 'Male', 'India', 'Driver'],\n",
       " [42, 26, 'Male', 'USA', 'Driver'],\n",
       " [43, 24, 'Female', 'Canada', 'Driver'],\n",
       " [44, 37, 'Female', 'USA', 'Driver'],\n",
       " [45, 25, 'Male', 'USA', 'Driver'],\n",
       " [46, 26, 'Male', 'USA', 'Driver'],\n",
       " [47, 31, 'Male', 'USA', 'Driver'],\n",
       " [48, 34, 'Male', 'USA', 'Pedestrian'],\n",
       " [49, 41, 'Male', 'USA', 'Pedestrian']]"
      ]
     },
     "execution_count": 54,
     "metadata": {},
     "output_type": "execute_result"
    }
   ],
   "source": [
    "parseAndClean(\"trolley-problem-3.csv\")"
   ]
  },
  {
   "cell_type": "markdown",
   "metadata": {},
   "source": [
    "## Task 3: Create Criteria For Your Trolley Problem Algorithm\n",
    "Take a few minutes to think about what criteria you would use to determine which of the two people in each accident should be saved and which of the two people in each accident should be killed. Write down your thoughts and your criteria as markdown in the cell below."
   ]
  },
  {
   "cell_type": "markdown",
   "metadata": {},
   "source": []
  },
  {
   "cell_type": "markdown",
   "metadata": {},
   "source": [
    "## Task 4: Code Your Trolley Problem Algorithm\n",
    "Now that you know the criteria that you have set for your trolley problem algorithm, it's time to code it! Create a function that takes in two parameters: pedestrian and driver - the two people involved in a specific unavoidable self-driving car collision,\n",
    "\n",
    "Where *pedestrian* is a list of age, gender, country, and fault\n",
    "\n",
    "Where *driver* is a list of age, gender, country, and fault\n",
    "\n",
    "Your function should **return** (based on your criteria) who the car should save as a string. If the pedestrian is saved, your code should return \"Pedestrian\". If the driver is saved, your code should return \"Driver\"."
   ]
  },
  {
   "cell_type": "code",
   "execution_count": 64,
   "metadata": {},
   "outputs": [],
   "source": [
    "def whoDoesTheCarSave(pedestrian,driver):\n",
    "    #your code goes here\n",
    "    #return the correct string based off of your criteria"
   ]
  },
  {
   "cell_type": "code",
   "execution_count": 66,
   "metadata": {},
   "outputs": [
    {
     "data": {
      "text/plain": [
       "'Driver'"
      ]
     },
     "execution_count": 66,
     "metadata": {},
     "output_type": "execute_result"
    }
   ],
   "source": [
    "#test your function with the following code to make sure it produces the outcome you expect!\n",
    "ped = [25,\"Female\",\"USA\",\"Pedestrian\"]\n",
    "driv = [75, \"Male\",\"USA\",\"Pedestrian\"]\n",
    "whoDoesTheCarSave(ped,driv)"
   ]
  },
  {
   "cell_type": "code",
   "execution_count": null,
   "metadata": {},
   "outputs": [],
   "source": []
  }
 ],
 "metadata": {
  "kernelspec": {
   "display_name": "Python 3",
   "language": "python",
   "name": "python3"
  },
  "language_info": {
   "codemirror_mode": {
    "name": "ipython",
    "version": 3
   },
   "file_extension": ".py",
   "mimetype": "text/x-python",
   "name": "python",
   "nbconvert_exporter": "python",
   "pygments_lexer": "ipython3",
   "version": "3.6.9"
  }
 },
 "nbformat": 4,
 "nbformat_minor": 2
}
