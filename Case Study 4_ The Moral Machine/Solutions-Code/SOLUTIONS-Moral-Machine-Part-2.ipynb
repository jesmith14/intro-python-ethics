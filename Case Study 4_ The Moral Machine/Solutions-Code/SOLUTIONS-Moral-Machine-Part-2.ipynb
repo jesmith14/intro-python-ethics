{
 "cells": [
  {
   "cell_type": "markdown",
   "metadata": {},
   "source": [
    "# Moral Machine Part 2"
   ]
  },
  {
   "cell_type": "markdown",
   "metadata": {},
   "source": [
    "Congratulations! It is your second week on the job at Messla and your quick thinking creating the Trolley Problem algorithm for us last week impressed the big bosses at the top. They want to implement your solution ASAP. In order to do this, they will need to use the function that you created that determines who to save and extrapolate it so it can be used with new data that they haven't seen yet. Start by copying your function *whoDoesTheCarSave* in the cell below:"
   ]
  },
  {
   "cell_type": "code",
   "execution_count": 58,
   "metadata": {},
   "outputs": [],
   "source": [
    "def whoDoesTheCarSave(pedestrian,driver):\n",
    "    saved = \"\"\n",
    "    #my criteria is to check who's fault it was\n",
    "    #if it was the pedestrian's fault,\n",
    "    #only save the pedestrian if they are a minor\n",
    "    #if it was the drivers fault,\n",
    "    #only save the driver if the pedestrian is over 75\n",
    "    if pedestrian[3] == \"Pedestrian\":\n",
    "        if pedestrian[0] > 18:\n",
    "            saved = \"Driver\"\n",
    "        else:\n",
    "            saved = \"Pedestrian\"\n",
    "    else:\n",
    "        if pedestrian[0] > 75:\n",
    "            saved = \"Driver\"\n",
    "        else:\n",
    "            saved = \"Pedestrian\"\n",
    "    return saved"
   ]
  },
  {
   "cell_type": "markdown",
   "metadata": {},
   "source": [
    "## Task #1: Get This Function Working With Our Historical Data\n",
    "First things first, we need to get your function operating with the data that we have available. Please write a function that takes in a filename (you can expect the file to be in the same format that we saw before - e.g., rowNum, age, gender, country, fault).\n",
    "\n",
    "Your function should loop through this file and for every \"incident\" (every 2 rows) call your function that you created *whoDoesTheCarSave*. \n",
    "\n",
    "The person that you choose to save should be added to a list of people to save.\n",
    "\n",
    "Your function should **return** a list of who you have chosen to save for each scenario. For example, your return list might look something like:\n",
    "[Driver, Driver, Pedestrian, Pedestrian, Pedestrian, Driver, Pedestrian, etc....]\n",
    "\n",
    "Complete your function in the cell below:"
   ]
  },
  {
   "cell_type": "code",
   "execution_count": 59,
   "metadata": {},
   "outputs": [],
   "source": [
    "import csv\n",
    "def messlasMoralMachine(fileName):\n",
    "    #code here\n",
    "    #return a list of the people who were saved for each incident\n",
    "    \n",
    "    \n",
    "    #(question to ask: if your input file is 100 rows, how many items should\n",
    "    #be in your returned list for this function?)\n",
    "    \n",
    "    \n",
    "    myFileHandle = open(fileName,\"r\")\n",
    "    csvReaderObject = csv.reader(myFileHandle)\n",
    "    header = next(csvReaderObject)\n",
    "    \n",
    "    saved = []\n",
    "    \n",
    "    for row in csvReaderObject:\n",
    "        cleanedDataPass = [int(row[1]), row[2], row[3], row[4]]\n",
    "        driver = next(csvReaderObject)\n",
    "        cleanedDataDriver = [int(driver[1]), driver[2], driver[3], driver[4]]\n",
    "        currentSave = whoDoesTheCarSave(cleanedDataPass, cleanedDataDriver)\n",
    "        saved.append(currentSave)\n",
    "    myFileHandle.close()\n",
    "    return saved"
   ]
  },
  {
   "cell_type": "code",
   "execution_count": 60,
   "metadata": {},
   "outputs": [
    {
     "data": {
      "text/plain": [
       "['Driver',\n",
       " 'Driver',\n",
       " 'Driver',\n",
       " 'Pedestrian',\n",
       " 'Pedestrian',\n",
       " 'Driver',\n",
       " 'Driver',\n",
       " 'Pedestrian',\n",
       " 'Pedestrian',\n",
       " 'Pedestrian',\n",
       " 'Pedestrian',\n",
       " 'Pedestrian',\n",
       " 'Pedestrian',\n",
       " 'Pedestrian',\n",
       " 'Pedestrian',\n",
       " 'Pedestrian',\n",
       " 'Pedestrian',\n",
       " 'Pedestrian',\n",
       " 'Driver',\n",
       " 'Pedestrian',\n",
       " 'Pedestrian',\n",
       " 'Pedestrian',\n",
       " 'Pedestrian',\n",
       " 'Pedestrian',\n",
       " 'Driver']"
      ]
     },
     "execution_count": 60,
     "metadata": {},
     "output_type": "execute_result"
    }
   ],
   "source": [
    "#you can use this to test your function,\n",
    "#you can expect your output to look something like this\n",
    "#but of course it will be specific to your criteria that you chose\n",
    "messlasMoralMachine(\"trolley-problem-3.csv\")"
   ]
  },
  {
   "cell_type": "markdown",
   "metadata": {},
   "source": [
    "## Task #2: The Final Step\n",
    "Wonderfully done! Now as the final step to finish out your job for us, we will need to be able to send this data that you have created to the self-driving car so that it can run your function and know what to do! For this last step, you will need to write a function that takes in an input file name and an output file name, then calls the function you just wrote *messlasMoralMachine* and **writes** to a csv file with the following columns:\n",
    "\n",
    "original Row Number (from the input file), person (Driver or Pedestrian), who was saved (Driver or Pedestrian)\n",
    "\n",
    "Make sure to include a header for rowNumber and Saved so we know what we are looking at!\n",
    "\n",
    "For example, your output csv might look something like:\n",
    "\n",
    "`\n",
    "rowNumber,person,saved\n",
    "0,Pedestrian,Driver\n",
    "1,Driver,Driver\n",
    "2,Pedestrian,Pedestrian\n",
    "3,Driver,Pedestrian\n",
    "4,Pedestrian,Pedestrian\n",
    "5,Driver,Pedestrian\n",
    "6,Pedestrian,Driver\n",
    "7,Driver,Driver\n",
    "etc...\n",
    "`\n"
   ]
  },
  {
   "cell_type": "code",
   "execution_count": 62,
   "metadata": {},
   "outputs": [],
   "source": [
    "#First though... we need to learn how to write information to a new file!\n",
    "#to do this, we use the \"w\" mode in File I/O\n",
    "#syntax:\n",
    "#open(fileName,\"w\")\n",
    "fileOut = open(\"example.csv\", \"w\")\n",
    "#BE CAREFUL-this will wipe out any information you have stored in this file\n",
    "#if there is information already in it!\n",
    "\n",
    "\n",
    "#now we can write anything to that file using the .write() function\n",
    "#syntax:\n",
    "#fileHandleName.write(\"string of some kind\")\n",
    "fileOut.write(\"here's some text\")\n",
    "fileOut.write(\"here's some more text\")\n",
    "fileOut.write(\"and even more!\")\n",
    "\n",
    "#run the cell\n",
    "#why did nothing print?\n",
    "#well... we need to close the file to tell python we are done \n",
    "#writing to it!\n",
    "\n",
    "fileOut.close()"
   ]
  },
  {
   "cell_type": "code",
   "execution_count": 83,
   "metadata": {},
   "outputs": [],
   "source": [
    "#now imagine if we want to write to a csv file, there a very specific\n",
    "#format we need to follow\n",
    "#column1,colum2,column3,etc...\n",
    "#and we need to have our rows separated by new lines\n",
    "#which didn't happen in our example above.\n",
    "#how do you think we might do this?\n",
    "\n",
    "#remember that special key we learned before? \"\\n\"\n",
    "#we can write this directly to the file to indicate a new line!\n",
    "#as for the commas... well we can do that directly too!\n",
    "fileOut = open(\"example.csv\", \"w\")\n",
    "#let's start out with a header\n",
    "fileOut.write(\"column1,column2,column3\\n\")\n",
    "fileOut.write(\"something,something else,last thing\\n\")\n",
    "fileOut.write(\"we,can,even do\\ntworows,in the same,line\\n\")\n",
    "fileOut.write(\"final row,last row column2, last row column3\")\n",
    "#we don't need an extra line at the end of the file\n",
    "#so we can ignore the \\n for that last row\n",
    "#now take a look at your file!\n",
    "fileOut.close()"
   ]
  },
  {
   "cell_type": "code",
   "execution_count": 104,
   "metadata": {},
   "outputs": [],
   "source": [
    "def moralMachine(inputFileName, outputFileName):\n",
    "    #first we need to call our old function to get the list of those who were saved\n",
    "    saved = messlasMoralMachine(inputFileName)\n",
    "    #now we can open our output file for writing\n",
    "    fileOut = open(outputFileName, \"w\")\n",
    "    \n",
    "    #don't forget to write the header:\n",
    "    fileOut.write(\"rowNumber,Person,Saved\\n\")\n",
    "    \n",
    "    #we need to loop through all of the rows we expect to write in our csv\n",
    "    #how can we obtain that?\n",
    "    totalRows = len(saved) * 2\n",
    "    #then we will loop through the length of the list of saved people\n",
    "    for i in range(0,totalRows):\n",
    "        #we need to write a row to the csv file in this format\n",
    "        #rowNumber,personSaved\n",
    "        #let's take a look at how our rows are going to work\n",
    "        #and how we can access who was saved\n",
    "        #(show them on the whiteboard)\n",
    "        safeIndex = i//2\n",
    "        #now we need to check if we are writing a row for a driver\n",
    "        #or a row for a pedestrian.. how can we do that?\n",
    "        #well, we can check to see if the row we are on is even or odd!\n",
    "        if i %2 == 0:\n",
    "            person = \"Pedestrian\"\n",
    "        else:\n",
    "            person = \"Driver\"\n",
    "        #now we just need to create a string with all of our info for\n",
    "        #this specific row\n",
    "        newCSVrow = str(i) + \",\" + person + \",\" + saved[safeIndex] + \"\\n\"\n",
    "        #and write that string to our out file\n",
    "        fileOut.write(newCSVrow)\n",
    "    fileOut.close()"
   ]
  },
  {
   "cell_type": "code",
   "execution_count": 105,
   "metadata": {},
   "outputs": [],
   "source": [
    "#you'll notice that this code\n",
    "#will produce an extra new line at the end\n",
    "#of your csv file, don't worry about that for now!\n",
    "\n",
    "#to test your code, you want to use the following code:\n",
    "#how can you check to see if your code worked?\n",
    "#well.. you'll need to check the csv file you've created!\n",
    "moralMachine(\"trolley-problem-3.csv\",\"test-out.csv\")"
   ]
  },
  {
   "cell_type": "markdown",
   "metadata": {},
   "source": [
    "Amazing work on our Trolley Problem dilemma! On behalf of everyone at Messla, we are thrilled to have you onboard and we can't wait to code more moral machines with you!"
   ]
  },
  {
   "cell_type": "code",
   "execution_count": null,
   "metadata": {},
   "outputs": [],
   "source": []
  }
 ],
 "metadata": {
  "kernelspec": {
   "display_name": "Python 3",
   "language": "python",
   "name": "python3"
  },
  "language_info": {
   "codemirror_mode": {
    "name": "ipython",
    "version": 3
   },
   "file_extension": ".py",
   "mimetype": "text/x-python",
   "name": "python",
   "nbconvert_exporter": "python",
   "pygments_lexer": "ipython3",
   "version": "3.6.9"
  }
 },
 "nbformat": 4,
 "nbformat_minor": 2
}
