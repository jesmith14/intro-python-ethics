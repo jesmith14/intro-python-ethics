{
 "cells": [
  {
   "cell_type": "markdown",
   "metadata": {},
   "source": [
    "# Moral Machine Part 2"
   ]
  },
  {
   "cell_type": "markdown",
   "metadata": {},
   "source": [
    "Congratulations! It is your second week on the job at Messla and your quick thinking creating the Trolley Problem algorithm for us last week impressed the big bosses at the top. They want to implement your solution ASAP. In order to do this, they will need to use the function that you created that determines who to save and extrapolate it so it can be used with new data that they haven't seen yet. Start by copying your function *whoDoesTheCarSave* in the cell below:"
   ]
  },
  {
   "cell_type": "code",
   "execution_count": 58,
   "metadata": {},
   "outputs": [],
   "source": [
    "def whoDoesTheCarSave(pedestrian,driver):\n",
    "    #your code here"
   ]
  },
  {
   "cell_type": "markdown",
   "metadata": {},
   "source": [
    "## Task #1: Get This Function Working With Our Historical Data\n",
    "First things first, we need to get your function operating with the data that we have available. Please write a function that takes in a filename (you can expect the file to be in the same format that we saw before - e.g., rowNum, age, gender, country, fault).\n",
    "\n",
    "Your function should loop through this file and for every \"incident\" (every 2 rows) call your function that you created *whoDoesTheCarSave*. \n",
    "\n",
    "The person that you choose to save should be added to a list of people to save.\n",
    "\n",
    "Your function should **return** a list of who you have chosen to save for each scenario. For example, your return list might look something like:\n",
    "[Driver, Driver, Pedestrian, Pedestrian, Pedestrian, Driver, Pedestrian, etc....]\n",
    "\n",
    "Complete your function in the cell below:"
   ]
  },
  {
   "cell_type": "code",
   "execution_count": 59,
   "metadata": {},
   "outputs": [],
   "source": [
    "import csv\n",
    "def messlasMoralMachine(fileName):\n",
    "    #code here\n",
    "    #return a list of the people who were saved for each incident\n",
    "    "
   ]
  },
  {
   "cell_type": "code",
   "execution_count": 60,
   "metadata": {},
   "outputs": [
    {
     "data": {
      "text/plain": [
       "['Driver',\n",
       " 'Driver',\n",
       " 'Driver',\n",
       " 'Pedestrian',\n",
       " 'Pedestrian',\n",
       " 'Driver',\n",
       " 'Driver',\n",
       " 'Pedestrian',\n",
       " 'Pedestrian',\n",
       " 'Pedestrian',\n",
       " 'Pedestrian',\n",
       " 'Pedestrian',\n",
       " 'Pedestrian',\n",
       " 'Pedestrian',\n",
       " 'Pedestrian',\n",
       " 'Pedestrian',\n",
       " 'Pedestrian',\n",
       " 'Pedestrian',\n",
       " 'Driver',\n",
       " 'Pedestrian',\n",
       " 'Pedestrian',\n",
       " 'Pedestrian',\n",
       " 'Pedestrian',\n",
       " 'Pedestrian',\n",
       " 'Driver']"
      ]
     },
     "execution_count": 60,
     "metadata": {},
     "output_type": "execute_result"
    }
   ],
   "source": [
    "#you can use this to test your function,\n",
    "#you can expect your output to look something like this\n",
    "#but of course it will be specific to your criteria that you chose\n",
    "messlasMoralMachine(\"trolley-problem.csv\")"
   ]
  },
  {
   "cell_type": "markdown",
   "metadata": {},
   "source": [
    "## Task #2: The Final Step\n",
    "Wonderfully done! Now as the final step to finish out your job for us, we will need to be able to send this data that you have created to the self-driving car so that it can run your function and know what to do! For this last step, you will need to write a function that takes in an input file name and an output file name, then calls the function you just wrote *messlasMoralMachine* and **writes** to a csv file with the following columns:\n",
    "\n",
    "original Row Number (from the input file), person (Driver or Pedestrian), who was saved (Driver or Pedestrian)\n",
    "\n",
    "Make sure to include a header for rowNumber and Saved so we know what we are looking at!\n",
    "\n",
    "For example, your output csv might look something like:\n",
    "\n",
    "`\n",
    "rowNumber,person,saved\n",
    "0,Pedestrian,Driver\n",
    "1,Driver,Driver\n",
    "2,Pedestrian,Pedestrian\n",
    "3,Driver,Pedestrian\n",
    "4,Pedestrian,Pedestrian\n",
    "5,Driver,Pedestrian\n",
    "6,Pedestrian,Driver\n",
    "7,Driver,Driver\n",
    "etc...\n",
    "`\n"
   ]
  },
  {
   "cell_type": "code",
   "execution_count": null,
   "metadata": {},
   "outputs": [],
   "source": []
  },
  {
   "cell_type": "code",
   "execution_count": 104,
   "metadata": {},
   "outputs": [],
   "source": [
    "def moralMachine(inputFileName, outputFileName):\n",
    "    #your code here"
   ]
  },
  {
   "cell_type": "code",
   "execution_count": 105,
   "metadata": {},
   "outputs": [],
   "source": [
    "#to test your code, you want to use the following code:\n",
    "#how can you check to see if your code worked?\n",
    "#well.. you'll need to check the csv file you've created!\n",
    "moralMachine(\"trolley-problem.csv\",\"moral-machine-output.csv\")"
   ]
  },
  {
   "cell_type": "markdown",
   "metadata": {},
   "source": [
    "Amazing work on our Trolley Problem dilemma! On behalf of everyone at Messla, we are thrilled to have you onboard and we can't wait to code more moral machines with you!"
   ]
  },
  {
   "cell_type": "code",
   "execution_count": null,
   "metadata": {},
   "outputs": [],
   "source": []
  }
 ],
 "metadata": {
  "kernelspec": {
   "display_name": "Python 3",
   "language": "python",
   "name": "python3"
  },
  "language_info": {
   "codemirror_mode": {
    "name": "ipython",
    "version": 3
   },
   "file_extension": ".py",
   "mimetype": "text/x-python",
   "name": "python",
   "nbconvert_exporter": "python",
   "pygments_lexer": "ipython3",
   "version": "3.6.9"
  }
 },
 "nbformat": 4,
 "nbformat_minor": 2
}
