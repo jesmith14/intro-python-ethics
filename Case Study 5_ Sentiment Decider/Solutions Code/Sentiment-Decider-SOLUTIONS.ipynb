{
 "cells": [
  {
   "cell_type": "markdown",
   "metadata": {},
   "source": [
    "# Sentiment Decider\n",
    "\n",
    "Welcome to your first day on the job at the fancy tech company, Mamazon. Here at Mamazon, we like to learn all that we can from our customers to make sure that they are happy with our products. In order to do this, we analyze all of the reviews that are posted for every product. Our two main goals are:\n",
    "1. For all products with more positive reviews, we want to promote those by ranking them higher in the search results. For all products with more negative reviews, we want to punish those by ranking them lower in the search results.\n",
    "2. Since every review has a text element and a rating element, we want to check to make sure that the reviews are accurate. So for every review, we want to check to see if the sentiment for the review matches the rating that reviewer gave for the product."
   ]
  },
  {
   "cell_type": "markdown",
   "metadata": {},
   "source": [
    "## Task #1: Create Your Sentiment Analyzer"
   ]
  },
  {
   "cell_type": "markdown",
   "metadata": {},
   "source": [
    "### Step 1: What's the sentiment of all of the reviews combined?\n",
    "To get us started on the right track, you will be creating a function that analyzes the sentiment of all of Mamazon reviews that we will be analyzing. In order to create this function, you will have access to 2 text files: positivewords.txt and negativewords.txt. You will start by creating a dictionary for all of the positive words and a dictionary for all of the negative words. For each word you encounter from all of the amazon reviews, you will keep track of how many positive words you come across and how many negative words you come across.\n",
    "\n",
    "Your function should take in three parameters: positiveWordsFile, negativeWordsFile, and reviewsFile. These are all strings that represent the name of those files, respectively. Your function will need to:\n",
    "1. Create the dictionaries to store the positive and negative words\n",
    "2. Open and read the review file\n",
    "3. Parse all of the words in the file\n",
    "4. Count how many positive and negative words you've encountered\n",
    "5. Print the quanitity of positive and negative words\n",
    "5. Return a string that lets us know if the majority of the reviews were positive or negative. If there are more positive reviews, return \"The Reviews are Mostly Positive\". If there are more negative reviews, return \"The Reviews are Mostly Negative\"."
   ]
  },
  {
   "cell_type": "code",
   "execution_count": 1,
   "metadata": {},
   "outputs": [],
   "source": [
    "#First things first... what is a dictionary?\n",
    "#A dictionoary is a NEW datatype! This is the last datatype we will be learning about\n",
    "#in this class.\n",
    "\n",
    "#Think about a dictionary like a real-world dictionary\n",
    "#You have keys (== the name of a word in a real dictionary)\n",
    "#You have values (== the definition of a word in a real dictionary)\n",
    "\n",
    "#Dictionaries are also really similar to lists\n",
    "#But instead of sotring things as an index-->value pair\n",
    "#list: 0,1 ---> [\"item1\",\"item2\"]\n",
    "#Dictionary is a key-->value pair\n",
    "#dictionary: \"key1\" --> \"value1\"\n",
    "#\"key1\" --> \"value2\"\n",
    "#etc..\n",
    "\n",
    "\n",
    "#The \"key\" is like an index that you can access directly\n",
    "\n",
    "#Syntax:\n",
    "#{\n",
    "#\"key1\":value1,\n",
    "#\"key2\":value2,\n",
    "#etc....\n",
    "#}\n",
    "\n",
    "#The keys can be any unique string: the values can be ANY DATATYPE\n"
   ]
  },
  {
   "cell_type": "code",
   "execution_count": 2,
   "metadata": {},
   "outputs": [
    {
     "name": "stdout",
     "output_type": "stream",
     "text": [
      "{'key1': 'this is the value for key1', 'key2': ['this', 'is', 'the', 'value', 'for', 'key', 2], 'third': 46789}\n"
     ]
    }
   ],
   "source": [
    "myDictionary = {\n",
    "    \"key1\":\"this is the value for key1\",\n",
    "    \"key2\":[\"this\",\"is\",\"the\",\"value\",\"for\",\"key\",2],\n",
    "    \"third\":46789\n",
    "}\n",
    "\n",
    "print(myDictionary)"
   ]
  },
  {
   "cell_type": "code",
   "execution_count": 3,
   "metadata": {},
   "outputs": [
    {
     "data": {
      "text/plain": [
       "'this is the value for key1'"
      ]
     },
     "execution_count": 3,
     "metadata": {},
     "output_type": "execute_result"
    }
   ],
   "source": [
    "#If you want to acccess a value in your dictionary,\n",
    "#it's just like if you were to look up a word in a real dictionary\n",
    "#You look for it by accessing its key\n",
    "\n",
    "myDictionary[\"key1\"]"
   ]
  },
  {
   "cell_type": "code",
   "execution_count": 4,
   "metadata": {},
   "outputs": [
    {
     "name": "stdout",
     "output_type": "stream",
     "text": [
      "{'key1': 'this is the new value for key1', 'key2': ['this', 'is', 'the', 'value', 'for', 'key', 2], 'third': 46789}\n"
     ]
    }
   ],
   "source": [
    "#if you want to update a value that already exists:\n",
    "myDictionary[\"key1\"] = \"this is the new value for key1\"\n",
    "print(myDictionary)"
   ]
  },
  {
   "cell_type": "code",
   "execution_count": 5,
   "metadata": {},
   "outputs": [
    {
     "name": "stdout",
     "output_type": "stream",
     "text": [
      "{'key1': 'this is the new value for key1', 'key2': ['this', 'is', 'the', 'value', 'for', 'key', 2], 'third': 46789, 'new key': 'this a new value for a new key'}\n"
     ]
    }
   ],
   "source": [
    "#If you want to add an entirely new key/value pair to the dictionary\n",
    "myDictionary[\"new key\"] = \"this a new value for a new key\"\n",
    "print(myDictionary)"
   ]
  },
  {
   "cell_type": "code",
   "execution_count": 6,
   "metadata": {},
   "outputs": [
    {
     "name": "stdout",
     "output_type": "stream",
     "text": [
      "key1 is in the dictionary\n"
     ]
    }
   ],
   "source": [
    "#unlike lists, dictionaries are NOT ordered...\n",
    "#this means that if we wanted to search for a specific \n",
    "#key or a specific value, we can't assume it will be at a certain\n",
    "#location in the dictionary. Also, sometimes we might\n",
    "#not know if the key/value pair exists in the dictionary at all!\n",
    "#if we do want to check to see if a key/value is in a dictionary,\n",
    "#we can do the following:\n",
    "\n",
    "if \"key1\" in myDictionary:\n",
    "    print(\"key1 is in the dictionary\")\n",
    "else:\n",
    "    print(\"key1 not in the dictionary\")"
   ]
  },
  {
   "cell_type": "code",
   "execution_count": 7,
   "metadata": {},
   "outputs": [
    {
     "ename": "KeyError",
     "evalue": "\"key that doesn't exist\"",
     "output_type": "error",
     "traceback": [
      "\u001b[0;31m---------------------------------------------------------------------------\u001b[0m",
      "\u001b[0;31mKeyError\u001b[0m                                  Traceback (most recent call last)",
      "\u001b[0;32m<ipython-input-7-dda9ce75fa8c>\u001b[0m in \u001b[0;36m<module>\u001b[0;34m\u001b[0m\n\u001b[1;32m      1\u001b[0m \u001b[0;31m#this is useful because we can't always assume that a key is in the dictionary\u001b[0m\u001b[0;34m\u001b[0m\u001b[0;34m\u001b[0m\u001b[0;34m\u001b[0m\u001b[0m\n\u001b[1;32m      2\u001b[0m \u001b[0;31m#if we do, we will probably run into an error\u001b[0m\u001b[0;34m\u001b[0m\u001b[0;34m\u001b[0m\u001b[0;34m\u001b[0m\u001b[0m\n\u001b[0;32m----> 3\u001b[0;31m \u001b[0mmyDictionary\u001b[0m\u001b[0;34m[\u001b[0m\u001b[0;34m\"key that doesn't exist\"\u001b[0m\u001b[0;34m]\u001b[0m\u001b[0;34m\u001b[0m\u001b[0;34m\u001b[0m\u001b[0m\n\u001b[0m",
      "\u001b[0;31mKeyError\u001b[0m: \"key that doesn't exist\""
     ]
    }
   ],
   "source": [
    "#this is useful because we can't always assume that a key is in the dictionary\n",
    "#if we do, we will probably run into an error\n",
    "myDictionary[\"key that doesn't exist\"]"
   ]
  },
  {
   "cell_type": "code",
   "execution_count": 8,
   "metadata": {},
   "outputs": [
    {
     "name": "stdout",
     "output_type": "stream",
     "text": [
      "the key wasn't in the dictionary and yay we avoided an error!\n"
     ]
    }
   ],
   "source": [
    "#this is why it's useful to check:\n",
    "if \"key that doesn't exist\" in myDictionary:\n",
    "    print(myDictionary[\"key that doesn't exist\"])\n",
    "else:\n",
    "    print(\"the key wasn't in the dictionary and yay we avoided an error!\")"
   ]
  },
  {
   "cell_type": "code",
   "execution_count": 9,
   "metadata": {},
   "outputs": [
    {
     "name": "stdout",
     "output_type": "stream",
     "text": [
      "key1\n",
      "key2\n",
      "third\n",
      "new key\n"
     ]
    }
   ],
   "source": [
    "#Last useful tip for dictionaries:\n",
    "#if we want to loop through all of the key value pairs in a dictionary,\n",
    "#we can use a for loop in the same way we can loop\n",
    "#through the items in a list or the characters in a string:\n",
    "\n",
    "#Syntax:\n",
    "for item in myDictionary:\n",
    "    print(item)"
   ]
  },
  {
   "cell_type": "code",
   "execution_count": 10,
   "metadata": {},
   "outputs": [
    {
     "name": "stdout",
     "output_type": "stream",
     "text": [
      "key: key1\n",
      "this is the new value for key1\n",
      "key: key2\n",
      "['this', 'is', 'the', 'value', 'for', 'key', 2]\n",
      "key: third\n",
      "46789\n",
      "key: new key\n",
      "this a new value for a new key\n"
     ]
    }
   ],
   "source": [
    "#This just gave us the keys, we are missing the values....\n",
    "#Does anyone have any idea how to print the values in the for loop as well?\n",
    "\n",
    "for key in myDictionary:\n",
    "    print(\"key: \" + key)\n",
    "    #something extra to get the values here\n",
    "    #remember this is how we access a value\n",
    "    #using the key for a dictionary\n",
    "    print(myDictionary[key])"
   ]
  },
  {
   "cell_type": "code",
   "execution_count": 11,
   "metadata": {},
   "outputs": [
    {
     "name": "stdout",
     "output_type": "stream",
     "text": [
      "['this', 'is', 'a', 'long', 'sentence', 'pretend', 'this', 'is', 'a', 'review', 'from', 'mamazon']\n"
     ]
    }
   ],
   "source": [
    "myStr = \"this is a long sentence pretend this is a review from mamazon\"\n",
    "reviewWordList = myStr.split()\n",
    "print(reviewWordList)"
   ]
  },
  {
   "cell_type": "code",
   "execution_count": 12,
   "metadata": {},
   "outputs": [],
   "source": [
    "def totalReviewSentiment(positiveWordsFile, negativeWordsFile, reviewsFile):\n",
    "    \n",
    "    #Create the dictionaries to store the positive and negative words\n",
    "    #open the positive words file\n",
    "    #go through all the positive words--> come up with a list of all of the positive words\n",
    "    #where each item in the list is one of the positive words\n",
    "    posFileHandler = open(positiveWordsFile,\"r\")\n",
    "    posContent = posFileHandler.read() #remember this returns a string of all the content in the file\n",
    "    posWordsList = posContent.splitlines() #splitlines returns a list where each item is a line in the file\n",
    "    \n",
    "    \n",
    "    #open the negative words file\n",
    "    #go through all the negative words\n",
    "    negFileHandler = open(negativeWordsFile,\"r\")\n",
    "    negContent = negFileHandler.read() #remember this returns a string of all the content in the file\n",
    "    negWordsList = negContent.splitlines() #splitlines returns a list where each item is a line in the file\n",
    "    \n",
    "    \n",
    "    #create an empty dictionary like we would do with an empty list\n",
    "    posWordsDict = {}\n",
    "    negWordsDict = {}\n",
    "    \n",
    "    \n",
    "    #put those words into a positive word dictionary\n",
    "    for word in posWordsList:\n",
    "        posWordsDict[word] = 0\n",
    "    #put those words into a negative word dictionary\n",
    "    for word in negWordsList:\n",
    "        negWordsDict[word] = 0\n",
    "    \n",
    "    \n",
    "    ####################################################################################\n",
    "    \n",
    "    \n",
    "    # Open and read the review file\n",
    "    #Get all of the words from this file into a list\n",
    "    reviewsFileHandler = open(reviewsFile,\"r\")\n",
    "    reviewString = reviewsFileHandler.read()\n",
    "    reviewWordList = reviewString.split()\n",
    "    \n",
    "    \n",
    "    # Parse all of the words in the file\n",
    "        #for every single word we encounter\n",
    "        #we want to check if that word exists in the positive or negative dictionary\n",
    "        #if it exists in the positive dictionary, then update that specific\n",
    "        #word's \"count\"\n",
    "        #if it exists in the negative dictionary, then update that specific word's \"count\"\n",
    "    for word in reviewWordList:\n",
    "        if word in posWordsDict:\n",
    "            posWordsDict[word] += 1\n",
    "        if word in negWordsDict:\n",
    "            negWordsDict[word] += 1\n",
    "    \n",
    "    \n",
    "    ####################################################################################\n",
    "    \n",
    "    \n",
    "    # Count how many positive and negative words you've encountered\n",
    "    \n",
    "    #variables to store the total positive and total negative number of words we've encountered\n",
    "    totalPosWords = 0\n",
    "    totalNegWords = 0\n",
    "    \n",
    "    # Loop through the positive dictionary\n",
    "    for key in posWordsDict:\n",
    "        numTimesThisWordUsed = posWordsDict[key]\n",
    "        # Count how many total words were used\n",
    "        totalPosWords += numTimesThisWordUsed\n",
    "    print(\"total times a positive word was used in all of our reviews: \" + str(totalPosWords))\n",
    "        \n",
    "    # Loop through the negative dictionary\n",
    "    for key in negWordsDict:\n",
    "        numTimesThisWordUsed = negWordsDict[key]\n",
    "        # Count how many total words were used\n",
    "        totalNegWords += numTimesThisWordUsed\n",
    "    print(\"total times a negative word was used in all of our reviews: \" + str(totalNegWords))\n",
    "    \n",
    "    \n",
    "    # Return a string that lets us know if the majority of the reviews were positive or negative. \n",
    "    if totalPosWords > totalNegWords:\n",
    "        # If there are more positive reviews, return \"The Reviews are Mostly Positive\". \n",
    "        return \"The Reviews are Mostly Positive\"\n",
    "    #If there are more negative reviews, return \"The Reviews are Mostly Negative\".\n",
    "    else:\n",
    "        return \"The Reviews are Mostly Negative\"\n",
    "    "
   ]
  },
  {
   "cell_type": "code",
   "execution_count": 13,
   "metadata": {},
   "outputs": [
    {
     "name": "stdout",
     "output_type": "stream",
     "text": [
      "total times a positive word was used in all of our reviews: 613312\n",
      "total times a negative word was used in all of our reviews: 344311\n"
     ]
    },
    {
     "data": {
      "text/plain": [
       "'The Reviews are Mostly Positive'"
      ]
     },
     "execution_count": 13,
     "metadata": {},
     "output_type": "execute_result"
    }
   ],
   "source": [
    "totalReviewSentiment(\"positivewords.txt\",\"negativewords.txt\",\"reviews.txt\")"
   ]
  },
  {
   "cell_type": "code",
   "execution_count": 14,
   "metadata": {},
   "outputs": [
    {
     "name": "stdout",
     "output_type": "stream",
     "text": [
      "total times a positive word was used in all of our reviews: 613312\n",
      "total times a negative word was used in all of our reviews: 344311\n"
     ]
    },
    {
     "data": {
      "text/plain": [
       "'The Reviews are Mostly Positive'"
      ]
     },
     "execution_count": 14,
     "metadata": {},
     "output_type": "execute_result"
    }
   ],
   "source": [
    "totalReviewSentiment(\"positivewords.txt\",\"negativewords.txt\",\"reviews.txt\")"
   ]
  },
  {
   "cell_type": "markdown",
   "metadata": {},
   "source": [
    "Phew. that is one long function! Is there any way we can make this function smaller?"
   ]
  },
  {
   "cell_type": "code",
   "execution_count": 15,
   "metadata": {},
   "outputs": [],
   "source": [
    "#Answer: Functional Decomposition\n",
    "#What is functional decomposition?\n",
    "#It is a way to make our functions a bit easier to understand\n",
    "#and also a bit less complex. Each function that you write should realistically\n",
    "#accomplish one main task. If you find that your function is doing too many things\n",
    "#consider splitting it into multiple functions\n",
    "#And calling these functions in order to complete the sub-tasks\n",
    "\n",
    "#One \"main\" function that calls all of your \"sub-functions\"\n",
    "\n",
    "#how could we split up the above function?\n",
    "#1. Open the files and get the words in a list\n",
    "#2. Create the dictionaries with their default values\n",
    "#3. Open the reviews + keep track of the pos/neg word counts in each dictionary\n",
    "#4. Calculate the final pos/neg word counts and return"
   ]
  },
  {
   "cell_type": "code",
   "execution_count": 16,
   "metadata": {},
   "outputs": [],
   "source": [
    "def getEmptyPosDictionary(posWords):\n",
    "    #2. Create the dictionaries with their default values\n",
    "    posWordsDict = {}\n",
    "    for word in posWords:\n",
    "        if word not in posWordsDict:\n",
    "            posWordsDict[word] = 0\n",
    "    return posWordsDict"
   ]
  },
  {
   "cell_type": "code",
   "execution_count": 17,
   "metadata": {},
   "outputs": [],
   "source": [
    "def getEmptyNegDictionary(negWords):\n",
    "    negWordsDict = {}\n",
    "    for word in negWords:\n",
    "        if word not in negWordsDict:\n",
    "            negWordsDict[word] = 0\n",
    "            \n",
    "    return negWordsDict"
   ]
  },
  {
   "cell_type": "code",
   "execution_count": 18,
   "metadata": {},
   "outputs": [],
   "source": [
    "def countWords(reviewsFile,posWordsDict,negWordsDict):\n",
    "    #3. Open the reviews + keep track of the pos/neg word counts in each dictionary\n",
    "    reviewsFileHandler = open(reviewsFile, \"r\")\n",
    "    allReviews = reviewsFileHandler.read()\n",
    "    allWords = allReviews.split()\n",
    "    for word in allWords:\n",
    "        if word in posWordsDict:\n",
    "            posWordsDict[word] += 1\n",
    "        elif word in negWordsDict:\n",
    "            negWordsDict[word] += 1\n",
    "    return[posWordsDict,negWordsDict]"
   ]
  },
  {
   "cell_type": "code",
   "execution_count": 19,
   "metadata": {},
   "outputs": [],
   "source": [
    "def getPosNegCount(posWordsDict,negWordsDict):\n",
    "    #4. Calculate the final pos/neg word counts and return\n",
    "    totalPosWords = 0\n",
    "    totalNegWords = 0\n",
    "    for posWord in posWordsDict:\n",
    "        numTimesPosWordUsed = posWordsDict[posWord]\n",
    "        if numTimesPosWordUsed > 0:\n",
    "            totalPosWords += numTimesPosWordUsed\n",
    "    for negWord in negWordsDict:\n",
    "        numTimesNegWordUsed = negWordsDict[negWord]\n",
    "        if numTimesNegWordUsed > 0:\n",
    "            totalNegWords += numTimesNegWordUsed\n",
    "    return[totalPosWords,totalNegWords]"
   ]
  },
  {
   "cell_type": "code",
   "execution_count": 20,
   "metadata": {},
   "outputs": [],
   "source": [
    "# You can also take this a step further and put each function in its own cell!\n",
    "#Just make sure that any function that is called is defined *ABOVE* (before) where it is called\n",
    "def totalReviewSentiment(positiveWordsFile, negativeWordsFile, reviewsFile):\n",
    "    #1. Open the files and get the words in a list\n",
    "    posFileHandler = open(positiveWordsFile,\"r\")\n",
    "    posContent = posFileHandler.read()\n",
    "    posWords = posContent.splitlines()\n",
    "    \n",
    "    negFileHandler = open(negativeWordsFile,\"r\")\n",
    "    negContent = negFileHandler.read()\n",
    "    negWords = negContent.splitlines()\n",
    "    \n",
    "    #2. Create the dictionaries with their default values\n",
    "    posWordsDict = getEmptyPosDictionary(posWords)\n",
    "    negWordsDict = getEmptyNegDictionary(negWords)\n",
    "    \n",
    "    #3. Open the reviews + keep track of the pos/neg word counts in each dictionary\n",
    "    [posWordsDict,negWordsDict] = countWords(reviewsFile,posWordsDict,negWordsDict)\n",
    "    \n",
    "    #4. Calculate the final pos/neg word counts and return\n",
    "    [totalPosWords,totalNegWords] = getPosNegCount(posWordsDict,negWordsDict)\n",
    "    \n",
    "    print(\"Total positive words used: \" + str(totalPosWords))\n",
    "    print(\"Total negative words used: \" + str(totalNegWords))\n",
    "    \n",
    "    if totalPosWords > totalNegWords:\n",
    "        return(\"The Reviews Are Mostly Positive\")\n",
    "    else:\n",
    "        return(\"The Reviews Are Mostly Negative\")\n",
    "    "
   ]
  },
  {
   "cell_type": "markdown",
   "metadata": {},
   "source": [
    "### Step 2: What's the sentiment of a single review?\n",
    "For this task, you will be creating a function that analyzes the sentiment of a single Mamazon review. This function will take in a string *review*, and calculate the sentiment for that review. It will also take in *posWordsDict* and *negWordsDict* which both represent dictionaries of each of the positive and negative words.\n",
    "\n",
    "In order to calculate the sentiment, we are going to first calculate just the positive sentiment. This can be calculated by dividing the number of positive words over the number of total words for a review.\n",
    "\n",
    "Example #1: If I had 3 positive words and 2 negative words in a sentence, then my **positive sentiment** would be positive words / total words --> 3/5 --> 0.6\n",
    "\n",
    "Example #2: If I had 12 negative words and 6 positive words in a sentence, then my **positive sentiment** would be positive words / total words --> 6/18 --> 0.3333333333333333\n",
    "\n",
    "Now that we have our positive sentiment caclulated... how do we calculate the negative sentiment?\n",
    "Well, it's just the inverse of the positive sentiment!\n",
    "\n",
    "Example #1: negative words / total words --> 2/5 --> 0.4 == 1 - 0.6(positive sentiment)\n",
    "\n",
    "Example #2: negative words / total words --> 12/18 --> 0.66666666 == 1 - 0.3333333(positive sentiment)\n",
    "\n",
    "How can we tell if a review is more positive or more negative?\n",
    "\n",
    "Well, if we just calculate the positive sentiment - then we can check if that number is above 0.5 or below 0.5.\n",
    "\n",
    "positiveSentiment > 0.5 == review that is more positive than negative\n",
    "positiveSentiment < 0.5 == review that is more negative than positive\n",
    "\n",
    "For your function, you will return a string that states whether this review was more positive or more negative. If it was more positive, print \"This review has a positive sentiment\". If the review is more negative, print \"This review has a negative sentiment\"."
   ]
  },
  {
   "cell_type": "code",
   "execution_count": null,
   "metadata": {},
   "outputs": [],
   "source": [
    "def reviewSentiment(review,posWordsDict,negWordsDict):\n",
    "    #your code here\n",
    "    \n",
    "    posWords = 0\n",
    "    negWords = 0\n",
    "    \n",
    "    #get all the words from the review\n",
    "    reviewWordsList = review.split()\n",
    "    \n",
    "    #loop through the words from the review\n",
    "    for word in reviewWordsList:\n",
    "        #1. is the word positive or negative?\n",
    "        if word in posWordsDict:\n",
    "            #do something\n",
    "            posWords += 1\n",
    "        #2. count how many positive and negative words we are encountering\n",
    "        if word in negWordsDict:\n",
    "            #do something\n",
    "            negWords += 1\n",
    "        \n",
    "    #calculate the positive sentiment / negative sentiment of the review\n",
    "        #hint: you only need to calculate the positive sentiment ratio and check if it is\n",
    "        #above or below 0.5 to know the answer this\n",
    "    #3. how do we calculate the positive sentiment ratio?\n",
    "        positiveSentiment = posWords / (posWords + negWords)\n",
    "    \n",
    "    4. return a string that says whether this review is more positive or negative\n",
    "    print(positiveSentiment)\n",
    "    if positiveSentiment > 0.5:\n",
    "        print(\"This review has a positive sentiment\")\n",
    "    elif positiveSentiment < 0.5:\n",
    "        print(\"This review has a negative sentiment\")\n",
    "    else:\n",
    "        print(\"This review was entirely neutral\")"
   ]
  },
  {
   "cell_type": "code",
   "execution_count": 22,
   "metadata": {},
   "outputs": [],
   "source": [
    "#Test the function using code that we already wrote:\n",
    "posFileHandler = open(\"positivewords.txt\",\"r\")\n",
    "posContent = posFileHandler.read()\n",
    "posWords = posContent.splitlines()\n",
    "\n",
    "negFileHandler = open(\"negativewords.txt\",\"r\")\n",
    "negContent = negFileHandler.read()\n",
    "negWords = negContent.splitlines()\n",
    "\n",
    "posWordsDict = getEmptyPosDictionary(posWords)\n",
    "negWordsDict = getEmptyNegDictionary(negWords)\n",
    "\n",
    "#our testing code here"
   ]
  },
  {
   "cell_type": "code",
   "execution_count": 23,
   "metadata": {},
   "outputs": [
    {
     "name": "stdout",
     "output_type": "stream",
     "text": [
      "1.0\n",
      "This review has a positive sentiment\n"
     ]
    }
   ],
   "source": [
    "review = \"I really enjoyed this product!!!\"\n",
    "reviewSentiment(review,posWordsDict,negWordsDict)"
   ]
  },
  {
   "cell_type": "code",
   "execution_count": 24,
   "metadata": {},
   "outputs": [
    {
     "name": "stdout",
     "output_type": "stream",
     "text": [
      "0.0\n",
      "This review has a negative sentiment\n"
     ]
    }
   ],
   "source": [
    "review = \"I really hated this product!!!\"\n",
    "reviewSentiment(review,posWordsDict,negWordsDict)"
   ]
  },
  {
   "cell_type": "code",
   "execution_count": 25,
   "metadata": {},
   "outputs": [
    {
     "name": "stdout",
     "output_type": "stream",
     "text": [
      "0.5\n",
      "This review was entirely neutral\n"
     ]
    }
   ],
   "source": [
    "review = \"I really hated and loved this product but ultimately it was okay!!!\"\n",
    "reviewSentiment(review,posWordsDict,negWordsDict)"
   ]
  },
  {
   "cell_type": "markdown",
   "metadata": {},
   "source": [
    "## Task #2: Can You Beat The Hackers? Let's \"Game\" The Algorithm"
   ]
  },
  {
   "cell_type": "markdown",
   "metadata": {},
   "source": [
    "Many hackers and producers of products for Mamazon have figured out how to \"game\" our algorithm. They have found different ways to promote their products higher up on our recommendation algorithm by getting their products ranked higher on the search page. There are many ways they have done this, and one of them is to write fake reviews that our algorithm thinks are really positive (even if they aren't real).\n",
    "\n",
    "In order to prep for this kind of algorithmic \"gaming\" - let's step into the role of the hacker. Try to come up with several examples of reviews that you can pass into your function above that seem \"positive\" to a human, but come out as \"negative\" to your algorithm and visa versa. What are some interesting trends you notice? How did you figure out ways to \"game\" the algorithm?"
   ]
  },
  {
   "cell_type": "code",
   "execution_count": 45,
   "metadata": {},
   "outputs": [
    {
     "name": "stdout",
     "output_type": "stream",
     "text": [
      "0.75\n",
      "This review has a positive sentiment\n"
     ]
    }
   ],
   "source": [
    "#these are some examples... there are many more examples the students can come up with!\n",
    "review = \"This product was an a+ accurately depicted amazing disaster\"\n",
    "reviewSentiment(review,posWordsDict,negWordsDict)"
   ]
  },
  {
   "cell_type": "code",
   "execution_count": 44,
   "metadata": {},
   "outputs": [
    {
     "name": "stdout",
     "output_type": "stream",
     "text": [
      "0.0\n",
      "This review has a negative sentiment\n"
     ]
    }
   ],
   "source": [
    "review = \"I'm baffled at how freaking goofy the film was\"\n",
    "reviewSentiment(review,posWordsDict,negWordsDict)"
   ]
  },
  {
   "cell_type": "code",
   "execution_count": null,
   "metadata": {},
   "outputs": [],
   "source": []
  },
  {
   "cell_type": "code",
   "execution_count": null,
   "metadata": {},
   "outputs": [],
   "source": []
  },
  {
   "cell_type": "markdown",
   "metadata": {},
   "source": [
    "## Task #3: Put it All Together"
   ]
  },
  {
   "cell_type": "markdown",
   "metadata": {},
   "source": [
    "We have written code for you in order for us to loop through all of the Mamazon reviews and come up with the average positive sentiment for the reviews... but there is something wrong with our code! We've encountered 3 hours and we can't figure out how to debug them. The location of the errors is depicted below. Please help us fix our function so we can finish out our sentiment decider!"
   ]
  },
  {
   "cell_type": "code",
   "execution_count": 34,
   "metadata": {},
   "outputs": [],
   "source": [
    "def getReviewSentiment(review,posWordsDict,negWordsDict):\n",
    "    #your code here\n",
    "    \n",
    "    posWords = 0\n",
    "    negWords = 0\n",
    "    \n",
    "    #get all the words from the review\n",
    "    reviewWordsList = review.split()\n",
    "    \n",
    "    #loop through the words from the review\n",
    "    for word in reviewWordsList:\n",
    "        #1. is the word positive or negative?\n",
    "        if word in posWordsDict:\n",
    "            #do something\n",
    "            posWords += 1\n",
    "        #2. count how many positive and negative words we are encountering\n",
    "        if word in negWordsDict:\n",
    "            #do something\n",
    "            negWords += 1\n",
    "        \n",
    "    #calculate the positive sentiment / negative sentiment of the review\n",
    "        #hint: you only need to calculate the positive sentiment ratio and check if it is\n",
    "        #above or below 0.5 to know the answer this\n",
    "    #3. how do we calculate the positive sentiment ratio?\n",
    "    if posWords > 0 and negWords > 0:\n",
    "        positiveSentiment = posWords / (posWords + negWords)\n",
    "    else:\n",
    "        return 0.5\n",
    "    return positiveSentiment"
   ]
  },
  {
   "cell_type": "code",
   "execution_count": 50,
   "metadata": {},
   "outputs": [],
   "source": [
    "#FIX THE FOLLOWING FUNCTION:\n",
    "def sentimentForAllReviews(positiveWordsFile, negativeWordsFile, reviewsFile):\n",
    "    posFileHandler = open(positiveWordsFile,\"r\")\n",
    "    posContent = posFileHandler.read()\n",
    "    posWords = posContent.splitlines()\n",
    "    \n",
    "    negFileHandler = open(negativeWordsFile,\"r\")\n",
    "    negContent = negFileHandler.read()\n",
    "    negWords = negContent.splitlines()\n",
    "    \n",
    "    #Create the dictionaries with their default values\n",
    "    posWordsDict = getEmptyPosDictionary(posWords)\n",
    "    negWordsDict = getEmptyNegDictionary(negWords)\n",
    "    \n",
    "    \n",
    "    #FIND THE ERRORS BELOW!\n",
    "    #Hint: There are 3 errors :-)\n",
    "    \n",
    "    #1. Change the open mode to \"r\" instead of \"a\" - then explain what \"a\" means\n",
    "    reviewFileHandler = open(reviewsFile,\"r\")\n",
    "    #2. Make sure you get your string of the entire file using the .read() functin\n",
    "    #before you call the spitlines() function on the contents of the file\n",
    "    reviewString = reviewFileHandler.read()\n",
    "    allReviewList = reviewString.splitlines()\n",
    "    \n",
    "    sentimentList = []\n",
    "    \n",
    "    for review in allReviewList:\n",
    "        #call the function we wrote!\n",
    "        sentiment = getReviewSentiment(review,posWordsDict,negWordsDict)\n",
    "        #Use the .append() function to add an item to a list, not the += operator\n",
    "        sentimentList.append(sentiment)\n",
    "        \n",
    "        \n",
    "    #END OF ERRORS\n",
    "        \n",
    "    #get the average sentiment of all the reviews\n",
    "    totalSentiment = 0\n",
    "    for sentiment in sentimentList:\n",
    "        totalSentiment += sentiment\n",
    "    averageSentiment = totalSentiment/len(sentimentList)\n",
    "    \n",
    "    return averageSentiment\n",
    "    \n",
    "    "
   ]
  },
  {
   "cell_type": "code",
   "execution_count": 52,
   "metadata": {},
   "outputs": [
    {
     "name": "stdout",
     "output_type": "stream",
     "text": [
      "The average sentiment of all of the reviews is: 0.5405544234784411\n"
     ]
    }
   ],
   "source": [
    "#This is the output that we want to see!\n",
    "averageSentiment = sentimentForAllReviews(\"positivewords.txt\",\"negativewords.txt\",\"reviews.txt\")\n",
    "print(\"The average sentiment of all of the reviews is: \" + str(averageSentiment))"
   ]
  },
  {
   "cell_type": "markdown",
   "metadata": {},
   "source": [
    "Amazing work! On behalf of everyone at Mamazon, we want to thank you for your dedication to our company and to our customers, but especially to those who create the products. We are sure they will be grateful for your sentiment analysis algorithm for their reviews so they can get the rankings they *deserve*!!!"
   ]
  }
 ],
 "metadata": {
  "kernelspec": {
   "display_name": "Python 3",
   "language": "python",
   "name": "python3"
  },
  "language_info": {
   "codemirror_mode": {
    "name": "ipython",
    "version": 3
   },
   "file_extension": ".py",
   "mimetype": "text/x-python",
   "name": "python",
   "nbconvert_exporter": "python",
   "pygments_lexer": "ipython3",
   "version": "3.6.9"
  }
 },
 "nbformat": 4,
 "nbformat_minor": 2
}
