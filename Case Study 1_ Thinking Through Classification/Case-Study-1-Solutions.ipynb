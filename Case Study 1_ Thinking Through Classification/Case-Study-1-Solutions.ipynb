{
 "cells": [
  {
   "cell_type": "markdown",
   "metadata": {},
   "source": [
    "# Solutions for Case Study 1: Thinking Through Classification"
   ]
  },
  {
   "cell_type": "markdown",
   "metadata": {},
   "source": [
    "### Problem 1:\n",
    "(You can also have the students select their own criteria for this problem, and have them discuss what the process of designing the algorithm felt like)"
   ]
  },
  {
   "cell_type": "code",
   "execution_count": 2,
   "metadata": {},
   "outputs": [],
   "source": [
    "def recommitCrimeOrNot(age, occupation, previousCrimes, familyCrimes):\n",
    "    if age%3 == 0:\n",
    "        print(\"This person will re-commit a crime\")\n",
    "    elif occupation == \"unemployed\":\n",
    "        print(\"This person will re-commit a crime\")\n",
    "    elif previousCrimes > 1:\n",
    "        print(\"This person will re-commit a crime\")\n",
    "    elif familyCrimes > 3:\n",
    "        print(\"This person will re-commit a crime\")\n",
    "    else:\n",
    "        print(\"This person will not re-commit a crime\")"
   ]
  },
  {
   "cell_type": "code",
   "execution_count": 3,
   "metadata": {},
   "outputs": [
    {
     "name": "stdout",
     "output_type": "stream",
     "text": [
      "This person will re-commit a crime\n"
     ]
    }
   ],
   "source": [
    "recommitCrimeOrNot(30, \"employed\",0,2)"
   ]
  },
  {
   "cell_type": "code",
   "execution_count": 4,
   "metadata": {},
   "outputs": [
    {
     "name": "stdout",
     "output_type": "stream",
     "text": [
      "This person will not re-commit a crime\n"
     ]
    }
   ],
   "source": [
    "recommitCrimeOrNot(31, \"employed\",0,2)"
   ]
  },
  {
   "cell_type": "code",
   "execution_count": 5,
   "metadata": {},
   "outputs": [
    {
     "name": "stdout",
     "output_type": "stream",
     "text": [
      "This person will re-commit a crime\n"
     ]
    }
   ],
   "source": [
    "recommitCrimeOrNot(31, \"unemployed\",0,0)"
   ]
  },
  {
   "cell_type": "code",
   "execution_count": 6,
   "metadata": {},
   "outputs": [
    {
     "name": "stdout",
     "output_type": "stream",
     "text": [
      "This person will re-commit a crime\n"
     ]
    }
   ],
   "source": [
    "recommitCrimeOrNot(31, \"employed\",2,0)"
   ]
  },
  {
   "cell_type": "code",
   "execution_count": 7,
   "metadata": {},
   "outputs": [
    {
     "name": "stdout",
     "output_type": "stream",
     "text": [
      "This person will re-commit a crime\n"
     ]
    }
   ],
   "source": [
    "recommitCrimeOrNot(31, \"employed\",0,4)"
   ]
  },
  {
   "cell_type": "code",
   "execution_count": 8,
   "metadata": {},
   "outputs": [
    {
     "name": "stdout",
     "output_type": "stream",
     "text": [
      "This person will not re-commit a crime\n"
     ]
    }
   ],
   "source": [
    "recommitCrimeOrNot(31, \"employed\",1,3)"
   ]
  },
  {
   "cell_type": "code",
   "execution_count": 9,
   "metadata": {},
   "outputs": [
    {
     "name": "stdout",
     "output_type": "stream",
     "text": [
      "This person will re-commit a crime\n"
     ]
    }
   ],
   "source": [
    "recommitCrimeOrNot(63, \"employed\",1,3)"
   ]
  },
  {
   "cell_type": "markdown",
   "metadata": {},
   "source": [
    "### Problem 2:\n",
    "(You can also have the students select their own criteria for this problem, and have them discuss what the process of designing the algorithm felt like)"
   ]
  },
  {
   "cell_type": "code",
   "execution_count": 13,
   "metadata": {},
   "outputs": [],
   "source": [
    "def numberOfFakeNews(listOfHeadlines):\n",
    "    fakeNews = 0\n",
    "    for headline in listOfHeadlines:\n",
    "        if \"Fake\" in headline:\n",
    "            fakeNews += 1\n",
    "        elif \"Shocking\" in headline:\n",
    "            fakeNews += 1\n",
    "        elif \"Revealed\" in headline:\n",
    "            fakeNews += 1\n",
    "        elif \"Unprecedented\" in headline:\n",
    "            fakeNews += 1\n",
    "    return fakeNews"
   ]
  },
  {
   "cell_type": "code",
   "execution_count": 15,
   "metadata": {},
   "outputs": [
    {
     "name": "stdout",
     "output_type": "stream",
     "text": [
      "3\n"
     ]
    }
   ],
   "source": [
    "listOfHeadlines = [\"You Won't Believe These 10 Secrets About The President!\",\n",
    "                   \"Coronavirus Update From The CDC\",\n",
    "                   \"A Shocking Announcement From The Kardashians Has Us Screaming!\",\n",
    "                   \"Facebook Fighting Fake News\",\n",
    "                   \"New Footage From The SpaceX Launch\",\n",
    "                   \"New COVID-19 Vaccine Revealed\"]\n",
    "print(numberOfFakeNews(listOfHeadlines))\n"
   ]
  },
  {
   "cell_type": "code",
   "execution_count": 16,
   "metadata": {},
   "outputs": [
    {
     "data": {
      "text/plain": [
       "2"
      ]
     },
     "execution_count": 16,
     "metadata": {},
     "output_type": "execute_result"
    }
   ],
   "source": [
    "listOfHeadlines = [\"Fake News Headline\", \"Real News\", \"Unprecedented Debate From Candidates\"]\n",
    "numberOfFakeNews(listOfHeadlines)"
   ]
  },
  {
   "cell_type": "code",
   "execution_count": 17,
   "metadata": {},
   "outputs": [
    {
     "data": {
      "text/plain": [
       "2"
      ]
     },
     "execution_count": 17,
     "metadata": {},
     "output_type": "execute_result"
    }
   ],
   "source": [
    "listOfHeadlines = [\"Shocking Unbelievable Information\", \"Fake Shocking Unprecendented News Revealed\", \"COVID-19 Data\"]\n",
    "numberOfFakeNews(listOfHeadlines)"
   ]
  },
  {
   "cell_type": "code",
   "execution_count": 18,
   "metadata": {},
   "outputs": [
    {
     "data": {
      "text/plain": [
       "0"
      ]
     },
     "execution_count": 18,
     "metadata": {},
     "output_type": "execute_result"
    }
   ],
   "source": [
    "listOfHeadlines = [\"Real News\", \"CDC Information\"]\n",
    "numberOfFakeNews(listOfHeadlines)"
   ]
  },
  {
   "cell_type": "code",
   "execution_count": null,
   "metadata": {},
   "outputs": [],
   "source": []
  }
 ],
 "metadata": {
  "kernelspec": {
   "display_name": "Python 3",
   "language": "python",
   "name": "python3"
  },
  "language_info": {
   "codemirror_mode": {
    "name": "ipython",
    "version": 3
   },
   "file_extension": ".py",
   "mimetype": "text/x-python",
   "name": "python",
   "nbconvert_exporter": "python",
   "pygments_lexer": "ipython3",
   "version": "3.6.9"
  }
 },
 "nbformat": 4,
 "nbformat_minor": 2
}
